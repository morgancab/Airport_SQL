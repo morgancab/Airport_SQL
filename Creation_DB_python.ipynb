{
 "cells": [
  {
   "cell_type": "markdown",
   "metadata": {},
   "source": [
    "# Creation of the DB"
   ]
  },
  {
   "cell_type": "markdown",
   "metadata": {},
   "source": [
    "This code snippet is designed to generate the database that we'll later use for querying with SQL. \n",
    "\n",
    "It begins by importing the necessary libraries: pandas for data manipulation and sqlite3 for interfacing with SQLite databases. The data from three CSV files (`airports.csv`, `flights.csv`, and `airlines.csv`) are read into pandas DataFrames. \n",
    "\n",
    "Then, a SQLite database connection (`cnn`) is established, and the DataFrames are converted into SQL tables (`airport` and `flights`) within the database using the `to_sql` method. This process sets up the foundation for conducting SQL queries on the provided dataset.\n"
   ]
  },
  {
   "cell_type": "code",
   "execution_count": null,
   "metadata": {},
   "outputs": [],
   "source": [
    "import pandas as pd\n",
    "import sqlite3\n",
    "#!pip install ipython-sql\n",
    "\n",
    "airport= pd.read_csv('Data/airports.csv')\n",
    "flights= pd.read_csv('Data/flights.csv')\n",
    "airlines= pd.read_csv('Data/airlines.csv')\n",
    "\n",
    "#Ytb video : https://www.youtube.com/watch?v=sDY_fKe_JVw&t=154s\n",
    "cnn = sqlite3.connect('jupyter_sql_tutorial.db')\n",
    "\n",
    "airport.to_sql('airport', cnn)\n",
    "flights.to_sql('flights', cnn)\n",
    "airlines.to_sql('airlines', cnn)\n"
   ]
  },
  {
   "cell_type": "markdown",
   "metadata": {},
   "source": []
  }
 ],
 "metadata": {
  "kernelspec": {
   "display_name": "Python 3",
   "language": "python",
   "name": "python3"
  },
  "language_info": {
   "codemirror_mode": {
    "name": "ipython",
    "version": 3
   },
   "file_extension": ".py",
   "mimetype": "text/x-python",
   "name": "python",
   "nbconvert_exporter": "python",
   "pygments_lexer": "ipython3",
   "version": "3.11.2"
  }
 },
 "nbformat": 4,
 "nbformat_minor": 2
}
