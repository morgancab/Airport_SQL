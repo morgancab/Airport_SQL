{
 "cells": [
  {
   "cell_type": "markdown",
   "metadata": {},
   "source": [
    "# Creation of the DB"
   ]
  },
  {
   "cell_type": "code",
   "execution_count": 3,
   "metadata": {},
   "outputs": [
    {
     "name": "stdout",
     "output_type": "stream",
     "text": [
      "1\n"
     ]
    }
   ],
   "source": [
    "print(1)"
   ]
  },
  {
   "cell_type": "code",
   "execution_count": null,
   "metadata": {},
   "outputs": [],
   "source": [
    "import pandas as pd\n",
    "import sqlite3\n",
    "#!pip install ipython-sql\n",
    "\n",
    "airport= pd.read_csv('Data/airports.csv')\n",
    "flights= pd.read_csv('Data/flights.csv')\n",
    "airlines= pd.read_csv('Data/airlines.csv')\n",
    "\n",
    "#Ytb video : https://www.youtube.com/watch?v=sDY_fKe_JVw&t=154s\n",
    "cnn = sqlite3.connect('jupyter_sql_tutorial.db')\n",
    "\n",
    "airport.to_sql('airport', cnn)\n",
    "flights.to_sql('flights', cnn)\n",
    "airlines.to_sql('airlines', cnn)\n"
   ]
  }
 ],
 "metadata": {
  "kernelspec": {
   "display_name": "Python 3",
   "language": "python",
   "name": "python3"
  },
  "language_info": {
   "codemirror_mode": {
    "name": "ipython",
    "version": 3
   },
   "file_extension": ".py",
   "mimetype": "text/x-python",
   "name": "python",
   "nbconvert_exporter": "python",
   "pygments_lexer": "ipython3",
   "version": "3.11.2"
  }
 },
 "nbformat": 4,
 "nbformat_minor": 2
}
